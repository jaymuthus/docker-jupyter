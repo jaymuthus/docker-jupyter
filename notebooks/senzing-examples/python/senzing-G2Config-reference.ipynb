{
 "cells": [
  {
   "cell_type": "markdown",
   "metadata": {},
   "source": [
    "# G2Config Reference\n",
    "\n",
    "More information:\n",
    "\n",
    "1. [GitHub repository](https://github.com/Senzing/docker-jupyter)\n",
    "1. [Senzing documentation](http://docs.senzing.com/?python#g2config)"
   ]
  },
  {
   "cell_type": "markdown",
   "metadata": {},
   "source": [
    "## Prepare environment"
   ]
  },
  {
   "cell_type": "code",
   "execution_count": null,
   "metadata": {},
   "outputs": [],
   "source": [
    "import os\n",
    "import sys\n",
    "import json\n",
    "\n",
    "# For RenderJSON\n",
    "\n",
    "import uuid\n",
    "from IPython.display import display_javascript, display_html, display"
   ]
  },
  {
   "cell_type": "markdown",
   "metadata": {},
   "source": [
    "### Helper class for JSON rendering\n",
    "\n",
    "A class for pretty-printing JSON.\n",
    "Not required by Senzing, \n",
    "but helps visualize JSON."
   ]
  },
  {
   "cell_type": "code",
   "execution_count": null,
   "metadata": {},
   "outputs": [],
   "source": [
    "class RenderJSON(object):\n",
    "    def __init__(self, json_data):\n",
    "        if isinstance(json_data, dict):\n",
    "            self.json_str = json.dumps(json_data)\n",
    "        elif isinstance(json_data, bytearray):\n",
    "            self.json_str = json_data.decode()\n",
    "        else:\n",
    "            self.json_str = json_data\n",
    "        self.uuid = str(uuid.uuid4())\n",
    "\n",
    "    def _ipython_display_(self):\n",
    "        display_html('<div id=\"{}\" style=\"height:100%; width:100%; background-color: LightCyan\"></div>'.format(self.uuid), raw=True)\n",
    "        display_javascript(\"\"\"\n",
    "        require([\"https://rawgit.com/caldwell/renderjson/master/renderjson.js\"], function() {\n",
    "        document.getElementById('%s').appendChild(renderjson(%s))\n",
    "        });\n",
    "        \"\"\" % (self.uuid, self.json_str), raw=True)"
   ]
  },
  {
   "cell_type": "markdown",
   "metadata": {},
   "source": [
    "### System path\n",
    "\n",
    "Update system path."
   ]
  },
  {
   "cell_type": "code",
   "execution_count": null,
   "metadata": {},
   "outputs": [],
   "source": [
    "python_path = \"{0}/python\".format(\n",
    "    os.environ.get(\"SENZING_G2_DIR\", \"/opt/senzing/g2\"))\n",
    "sys.path.append(python_path)"
   ]
  },
  {
   "cell_type": "markdown",
   "metadata": {},
   "source": [
    "### Initialize variables\n",
    "\n",
    "Create variables used for G2Engine."
   ]
  },
  {
   "cell_type": "code",
   "execution_count": null,
   "metadata": {},
   "outputs": [],
   "source": [
    "module_name = 'pyG2Config'\n",
    "\n",
    "config_path = os.environ.get(\"SENZING_ETC_DIR\", \"/etc/opt/senzing\")\n",
    "support_path = os.environ.get(\"SENZING_DATA_VERSION_DIR\", \"/opt/senzing/data\")\n",
    "\n",
    "resource_path = \"{0}/resources\".format(\n",
    "    os.environ.get(\"SENZING_G2_DIR\", \"/opt/senzing/g2\"))\n",
    "\n",
    "sql_connection = os.environ.get(\n",
    "    \"SENZING_SQL_CONNECTION\", \"sqlite3://na:na@/var/opt/senzing/sqlite/G2C.db\")\n",
    "\n",
    "verbose_logging = False\n",
    "\n",
    "senzing_config_dictionary = {\n",
    "    \"PIPELINE\": {\n",
    "        \"CONFIGPATH\": config_path,        \n",
    "        \"SUPPORTPATH\": support_path,\n",
    "        \"RESOURCEPATH\": resource_path\n",
    "    },\n",
    "    \"SQL\": {\n",
    "        \"CONNECTION\": sql_connection,\n",
    "    }\n",
    "}\n",
    "\n",
    "senzing_config_json = json.dumps(senzing_config_dictionary)"
   ]
  },
  {
   "cell_type": "markdown",
   "metadata": {},
   "source": [
    "## G2Config\n",
    "\n",
    "The G2Config API is used to create a new JSON configuration from the default template\n",
    "or manipulate a JSON configuration that it is provided.\n",
    "The API read/writes a JSON string, but that string would typically be\n",
    "read/written from/to a g2config.json file that the G2 engine reads during the initV2(...) call."
   ]
  },
  {
   "cell_type": "code",
   "execution_count": null,
   "metadata": {},
   "outputs": [],
   "source": [
    "from G2Config import G2Config"
   ]
  },
  {
   "cell_type": "markdown",
   "metadata": {},
   "source": [
    "### G2Config Initialization\n",
    "\n",
    "To start using G2Config, you must first create and initialize the G2Config object.\n",
    "This should be done once per process.\n",
    "\n",
    "Create a new instance of the Senzing G2Config object and assign it to a variable.\n",
    "Then, call the appropriate initialization method (such as initV2) to initialize the G2Config object.\n",
    "\n",
    "During the call, the initialization methods accept the following parameters:\n",
    "\n",
    "- **module_name:** A short name given to this instance of the G2 engine (i.e. your G2Module object)\n",
    "- **senzing_config_json:** A JSON document containing system parameters (see the section called \"Initialization Parameters\")\n",
    "- **verbose_logging:** A boolean which enables diagnostic logging - this will print a massive amount of information to stdout (default = False)\n",
    "\n",
    "Calling these functions will return \"0\" upon success - useful for error handling."
   ]
  },
  {
   "cell_type": "code",
   "execution_count": null,
   "metadata": {},
   "outputs": [],
   "source": [
    "g2_config = G2Config()\n",
    "return_code = g2_config.initV2(module_name, senzing_config_json, verbose_logging)\n",
    "\n",
    "print(\"Return Code: {0}\".format(return_code))"
   ]
  },
  {
   "cell_type": "markdown",
   "metadata": {},
   "source": [
    "### create\n",
    "\n",
    "The `create()` method creates a stock Senzing JSON config from the template in `${SUPPORTPATH}/g2config.json`.\n",
    "Importantly, the `create()` method returns a long integer referred to here as a `config_handle`.\n",
    "This `config_handle` is a handle referring to the created Senzing configuration,\n",
    "and can be used to represent said Senzing configuration in later function calls."
   ]
  },
  {
   "cell_type": "code",
   "execution_count": null,
   "metadata": {},
   "outputs": [],
   "source": [
    "config_handle = g2_config.create()"
   ]
  },
  {
   "cell_type": "markdown",
   "metadata": {},
   "source": [
    "### listDataSources\n",
    "\n",
    "The `listDataSources()` method returns a list of the G2Config object's current data sources\n",
    "as a JSON document to a user-designated string.\n",
    "The `listDataSources()` method returns a 0 upon success, and fails otherwise.\n",
    "The `listDataSources()` method accepts the following parameters:\n",
    "\n",
    "- **config_handle:** A long integer representing a previously created G2Config object\n",
    "- **response_bytearray:** A memory buffer for returning the response document; if an error occurred, an error response is stored here"
   ]
  },
  {
   "cell_type": "code",
   "execution_count": null,
   "metadata": {},
   "outputs": [],
   "source": [
    "response_bytearray = bytearray()\n",
    "\n",
    "return_code = g2_config.listDataSources(config_handle, response_bytearray)\n",
    "\n",
    "print(\"Return Code: {0}\".format(return_code))\n",
    "RenderJSON(response_bytearray)"
   ]
  },
  {
   "cell_type": "markdown",
   "metadata": {},
   "source": [
    "### save\n",
    "\n",
    "The `save()` method saves the G2Config object into a JSON string.\n",
    "The `save()` method returns 0 upon success,\n",
    "and it accepts the following parameters:\n",
    "\n",
    "- **config_handle:** A long integer representing a previously created G2Config object\n",
    "- **response_bytearray:** A memory buffer for returning the response document; if an error occurred, an error response is stored here\n"
   ]
  },
  {
   "cell_type": "code",
   "execution_count": null,
   "metadata": {},
   "outputs": [],
   "source": [
    "response_bytearray = bytearray()\n",
    "\n",
    "return_code = g2_config.save(config_handle, response_bytearray)\n",
    "\n",
    "print(\"Return Code: {0}\".format(return_code))\n",
    "RenderJSON(response_bytearray)"
   ]
  }
 ],
 "metadata": {
  "kernelspec": {
   "display_name": "Python 3",
   "language": "python",
   "name": "python3"
  },
  "language_info": {
   "codemirror_mode": {
    "name": "ipython",
    "version": 3
   },
   "file_extension": ".py",
   "mimetype": "text/x-python",
   "name": "python",
   "nbconvert_exporter": "python",
   "pygments_lexer": "ipython3",
   "version": "3.7.6"
  },
  "toc": {
   "base_numbering": 1,
   "nav_menu": {},
   "number_sections": true,
   "sideBar": true,
   "skip_h1_title": false,
   "title_cell": "Table of Contents",
   "title_sidebar": "Contents",
   "toc_cell": false,
   "toc_position": {},
   "toc_section_display": true,
   "toc_window_display": false
  }
 },
 "nbformat": 4,
 "nbformat_minor": 2
}
