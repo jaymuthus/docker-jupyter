{
 "cells": [
  {
   "cell_type": "markdown",
   "metadata": {},
   "source": [
    "# G2Config Reference\n",
    "\n",
    "More information:\n",
    "\n",
    "1. [GitHub repository](https://github.com/Senzing/docker-jupyter)\n",
    "1. [Senzing documentation](http://docs.senzing.com/?python#g2config)"
   ]
  },
  {
   "cell_type": "markdown",
   "metadata": {},
   "source": [
    "## Prepare environment"
   ]
  },
  {
   "cell_type": "code",
   "execution_count": null,
   "metadata": {},
   "outputs": [],
   "source": [
    "import os\n",
    "import sys\n",
    "import json\n",
    "\n",
    "# For RenderJSON\n",
    "\n",
    "import uuid\n",
    "from IPython.display import display_javascript, display_html, display"
   ]
  },
  {
   "cell_type": "markdown",
   "metadata": {},
   "source": [
    "### Helper class for JSON rendering\n",
    "\n",
    "A class for pretty-printing JSON.\n",
    "Not required by Senzing, \n",
    "but helps visualize JSON."
   ]
  },
  {
   "cell_type": "code",
   "execution_count": null,
   "metadata": {},
   "outputs": [],
   "source": [
    "class RenderJSON(object):\n",
    "    def __init__(self, json_data):\n",
    "        if isinstance(json_data, dict):\n",
    "            self.json_str = json.dumps(json_data)\n",
    "        elif isinstance(json_data, bytearray):\n",
    "            self.json_str = json_data.decode()\n",
    "        else:\n",
    "            self.json_str = json_data\n",
    "        self.uuid = str(uuid.uuid4())\n",
    "\n",
    "    def _ipython_display_(self):\n",
    "        display_html('<div id=\"{}\" style=\"height:100%; width:100%; background-color: LightCyan\"></div>'.format(self.uuid), raw=True)\n",
    "        display_javascript(\"\"\"\n",
    "        require([\"https://rawgit.com/caldwell/renderjson/master/renderjson.js\"], function() {\n",
    "        document.getElementById('%s').appendChild(renderjson(%s))\n",
    "        });\n",
    "        \"\"\" % (self.uuid, self.json_str), raw=True)"
   ]
  },
  {
   "cell_type": "markdown",
   "metadata": {},
   "source": [
    "### Initialize variables\n",
    "\n",
    "Create variables used for G2Config."
   ]
  },
  {
   "cell_type": "code",
   "execution_count": null,
   "metadata": {},
   "outputs": [],
   "source": [
    "%run senzing-init-config.ipynb"
   ]
  },
  {
   "cell_type": "code",
   "execution_count": null,
   "metadata": {},
   "outputs": [],
   "source": [
    "%store -r senzing_config_json"
   ]
  },
  {
   "cell_type": "code",
   "execution_count": null,
   "metadata": {},
   "outputs": [],
   "source": [
    "RenderJSON(senzing_config_json)"
   ]
  },
  {
   "cell_type": "code",
   "execution_count": null,
   "metadata": {},
   "outputs": [],
   "source": [
    "python_path = \"{0}/python\".format(\n",
    "    os.environ.get(\"SENZING_G2_DIR\", \"/opt/senzing/g2\"))\n",
    "sys.path.append(python_path)"
   ]
  },
  {
   "cell_type": "markdown",
   "metadata": {},
   "source": [
    "## G2Config\n",
    "\n",
    "The G2Config API..."
   ]
  },
  {
   "cell_type": "code",
   "execution_count": null,
   "metadata": {},
   "outputs": [],
   "source": [
    "from G2Config import G2Config\n",
    "import G2Exception"
   ]
  },
  {
   "cell_type": "markdown",
   "metadata": {},
   "source": [
    "### Initialize G2Config\n",
    "\n",
    "Details at [G2Config Initialization](senzing-G2Config-reference.ipynb#G2Config-Initialization)."
   ]
  },
  {
   "cell_type": "code",
   "execution_count": null,
   "metadata": {},
   "outputs": [],
   "source": [
    "g2_config = G2Config()\n",
    "try:\n",
    "    g2_config.initV2(module_name, senzing_config_json, verbose_logging)\n",
    "    \n",
    "except G2Exception.G2ModuleGenericException as err:\n",
    "    print(g2_config.getLastException())"
   ]
  },
  {
   "cell_type": "markdown",
   "metadata": {},
   "source": [
    "### Create configuration handle\n",
    "\n",
    "Details at [G2Config.create](senzing-G2Config-reference.ipynb#create)."
   ]
  },
  {
   "cell_type": "code",
   "execution_count": null,
   "metadata": {},
   "outputs": [],
   "source": [
    "try:\n",
    "    config_handle = g2_config.create()\n",
    "    \n",
    "except G2Exception.G2ModuleGenericException as err:\n",
    "    print(g2_config.getLastException())"
   ]
  },
  {
   "cell_type": "markdown",
   "metadata": {},
   "source": [
    "### save"
   ]
  },
  {
   "cell_type": "code",
   "execution_count": null,
   "metadata": {},
   "outputs": [],
   "source": [
    "try:\n",
    "    response_bytearray = bytearray()\n",
    "    g2_config.save(config_handle, response_bytearray)\n",
    "    \n",
    "except G2Exception.G2ModuleGenericException as err:\n",
    "    print(g2_config.getLastException())\n",
    "    \n",
    "RenderJSON(response_bytearray)"
   ]
  },
  {
   "cell_type": "markdown",
   "metadata": {},
   "source": [
    "### load"
   ]
  },
  {
   "cell_type": "code",
   "execution_count": null,
   "metadata": {},
   "outputs": [],
   "source": [
    "try:\n",
    "    # example using the saved config from the `save()` method\n",
    "    g2_config.load(response_bytearray)\n",
    "    \n",
    "except G2Exception.G2ModuleGenericException as err:\n",
    "    print(g2_config.getLastException())"
   ]
  },
  {
   "cell_type": "markdown",
   "metadata": {},
   "source": [
    "## Datasources"
   ]
  },
  {
   "cell_type": "markdown",
   "metadata": {},
   "source": [
    "### listDataSourcesV2\n",
    "\n",
    "Call G2Config's `listDataSourcesV2()` method and pretty-printsresults.\n",
    "\n",
    "Details at [G2Config.listDataSources](senzing-G2Config-reference.ipynb#listDataSources).\n"
   ]
  },
  {
   "cell_type": "code",
   "execution_count": null,
   "metadata": {},
   "outputs": [],
   "source": [
    "try:\n",
    "    response_bytearray = bytearray()\n",
    "\n",
    "    g2_config.listDataSourcesV2(config_handle, response_bytearray)\n",
    "    \n",
    "except G2Exception.G2ModuleGenericException as err:\n",
    "    print(g2_config.getLastException())\n",
    "\n",
    "RenderJSON(response_bytearray)"
   ]
  },
  {
   "cell_type": "markdown",
   "metadata": {},
   "source": [
    "### addDataSourceV2\n",
    "\n",
    "Call G2Config's `addDataSourceV2()` method and pretty-prints results.\n",
    "\n",
    "Details at [G2Config.addDataSource](senzing-G2Config-reference.ipynb#addDataSource)."
   ]
  },
  {
   "cell_type": "code",
   "execution_count": null,
   "metadata": {
    "scrolled": true
   },
   "outputs": [],
   "source": [
    "try:\n",
    "    datasource_json = \"{\\\"DSRC_CODE\\\": \\\"CUSTOMER\\\"}\" \n",
    "\n",
    "    response_bytearray = bytearray()\n",
    "\n",
    "    g2_config.addDataSourceV2(config_handle, datasource_json, response_bytearray)\n",
    "    \n",
    "except G2Exception.G2ModuleGenericException as err:\n",
    "    print(g2_config.getLastException())\n",
    "\n",
    "RenderJSON(response_bytearray)"
   ]
  },
  {
   "cell_type": "markdown",
   "metadata": {},
   "source": [
    "### addDataSourceWithID"
   ]
  },
  {
   "cell_type": "code",
   "execution_count": null,
   "metadata": {},
   "outputs": [],
   "source": [
    "try:\n",
    "    datasource_json = \"{\\\"DSRC_CODE\\\": \\\"CUSTOMER\\\"}\" \n",
    "\n",
    "    response_bytearray = bytearray()\n",
    "    \n",
    "    id = 0\n",
    "    \n",
    "    g2_config.addDataSourceWithID(config_handle, datasource_json, id)\n",
    "    \n",
    "except G2Exception.G2ModuleGenericException as err:\n",
    "    print(g2_config.getLastException())"
   ]
  },
  {
   "cell_type": "markdown",
   "metadata": {},
   "source": [
    "### listDataSources again\n",
    "\n",
    "Call G2Config's `listDataSourcesV2()` method and pretty-prints results.\n",
    "Notice that the list now contains the newly added datasource_code of \"CUSTOMER\".\n",
    "\n",
    "Details at [G2Config.listDataSources](senzing-G2Config-reference.ipynb#listDataSources)."
   ]
  },
  {
   "cell_type": "code",
   "execution_count": null,
   "metadata": {},
   "outputs": [],
   "source": [
    "try:\n",
    "    response_bytearray = bytearray()\n",
    "\n",
    "    g2_config.listDataSourcesV2(config_handle, response_bytearray)\n",
    "\n",
    "except G2Exception.G2ModuleGenericException as err:\n",
    "    print(g2_config.getLastException())"
   ]
  },
  {
   "cell_type": "markdown",
   "metadata": {},
   "source": [
    "## Entities"
   ]
  },
  {
   "cell_type": "markdown",
   "metadata": {},
   "source": [
    "### listEntityClassesV2\n",
    "Calls G2Config's `listEntityClassesV2()` method and pretty-prints results."
   ]
  },
  {
   "cell_type": "code",
   "execution_count": null,
   "metadata": {},
   "outputs": [],
   "source": [
    "try:\n",
    "    response_bytearray = bytearray()\n",
    "\n",
    "    g2_config.listEntityClassesV2(config_handle, response_bytearray)\n",
    "    \n",
    "except G2Exception.G2ModuleGenericException as err:\n",
    "    print(g2_config.getLastException())\n",
    "    \n",
    "RenderJSON(response_bytearray.decode())"
   ]
  },
  {
   "cell_type": "markdown",
   "metadata": {},
   "source": [
    "### listEntityTypesV2\n",
    "Calls G2Config's `listEntityTypesV2()` method and pretty-prints results."
   ]
  },
  {
   "cell_type": "code",
   "execution_count": null,
   "metadata": {},
   "outputs": [],
   "source": [
    "try:\n",
    "    response_bytearray = bytearray()\n",
    "\n",
    "    g2_config.listEntityTypesV2(config_handle, response_bytearray)\n",
    "    \n",
    "except G2Exception.G2ModuleGenericException as err:\n",
    "    print(g2_config.getLastException())\n",
    "    \n",
    "RenderJSON(response_bytearray.decode())"
   ]
  },
  {
   "cell_type": "markdown",
   "metadata": {},
   "source": [
    "### listEntityClasses again"
   ]
  },
  {
   "cell_type": "code",
   "execution_count": null,
   "metadata": {},
   "outputs": [],
   "source": [
    "try:\n",
    "    response_bytearray = bytearray()\n",
    "\n",
    "    g2_config.listEntityClassesV2(config_handle, response_bytearray)\n",
    "\n",
    "    \n",
    "except G2Exception.G2ModuleGenericException as err:\n",
    "    print(g2_config.getLastException())"
   ]
  },
  {
   "cell_type": "markdown",
   "metadata": {},
   "source": [
    "### addEntityTypeV2"
   ]
  },
  {
   "cell_type": "code",
   "execution_count": null,
   "metadata": {},
   "outputs": [],
   "source": [
    "try:\n",
    "    entitytype_json = \"{\\\"ETYPE_CODE\\\": \\\"PROFESSIONAL\\\", \\\"ECLASS_CODE\\\": \\\"ACTOR\\\"}\" \n",
    "    response_bytearray = bytearray()\n",
    "\n",
    "    g2_config.addEntityTypeV2(config_handle, entitytype_json, response_bytearray)\n",
    "    \n",
    "except G2Exception.G2ModuleGenericException as err:\n",
    "    print(g2_config.getLastException())\n",
    "    \n",
    "RenderJSON(response_bytearray.decode())"
   ]
  },
  {
   "cell_type": "markdown",
   "metadata": {},
   "source": [
    "### listEntityTypes again"
   ]
  },
  {
   "cell_type": "code",
   "execution_count": null,
   "metadata": {},
   "outputs": [],
   "source": [
    "try:\n",
    "    response_bytearray = bytearray()\n",
    "\n",
    "    g2_config.listEntityTypesV2(config_handle, response_bytearray)\n",
    "    \n",
    "except G2Exception.G2ModuleGenericException as err:\n",
    "    print(g2_config.getLastException())\n",
    "    \n",
    "RenderJSON(response_bytearray.decode())"
   ]
  },
  {
   "cell_type": "markdown",
   "metadata": {},
   "source": [
    "### deleteEntityTypesV2"
   ]
  },
  {
   "cell_type": "code",
   "execution_count": null,
   "metadata": {},
   "outputs": [],
   "source": [
    "try:\n",
    "    entitytype_json = \"{\\\"ETYPE_CODE\\\": \\\"PROFESSIONAL\\\", \\\"ECLASS_CODE\\\": \\\"ACTOR\\\"}\" \n",
    "\n",
    "    g2_config.deleteEntityTypeV2(config_handle, entitytype_json)\n",
    "\n",
    "except G2Exception.G2ModuleGenericException as err:\n",
    "    print(g2_config.getLastException())"
   ]
  },
  {
   "cell_type": "markdown",
   "metadata": {},
   "source": [
    "## Feature"
   ]
  },
  {
   "cell_type": "markdown",
   "metadata": {},
   "source": [
    "### listFeatureElementsV2"
   ]
  },
  {
   "cell_type": "code",
   "execution_count": null,
   "metadata": {
    "scrolled": true
   },
   "outputs": [],
   "source": [
    "try:\n",
    "    response_bytearray = bytearray()\n",
    "\n",
    "    g2_config.listFeatureElementsV2(config_handle, response_bytearray)\n",
    "    \n",
    "except G2Exception.G2ModuleGenericException as err:\n",
    "    print(g2_config.getLastException())\n",
    "    \n",
    "RenderJSON(response_bytearray.decode())"
   ]
  },
  {
   "cell_type": "markdown",
   "metadata": {},
   "source": [
    "### getFeatureElementV2"
   ]
  },
  {
   "cell_type": "code",
   "execution_count": null,
   "metadata": {},
   "outputs": [],
   "source": [
    "try:\n",
    "    response_bytearray = bytearray()\n",
    "    featureElm_json=\"{\\\"FELEM_CODE\\\":\\\"GIVEN_NAME\\\"}\"\n",
    "\n",
    "    g2_config.getFeatureElementV2(config_handle, featureElm_json, response_bytearray)\n",
    "    \n",
    "except G2Exception.G2ModuleGenericException as err:\n",
    "    print(g2_config.getLastException())\n",
    "    \n",
    "RenderJSON(response_bytearray.decode())"
   ]
  },
  {
   "cell_type": "markdown",
   "metadata": {},
   "source": [
    "### addFeatureElementV2"
   ]
  },
  {
   "cell_type": "code",
   "execution_count": null,
   "metadata": {},
   "outputs": [],
   "source": [
    "try:\n",
    "    response_bytearray = bytearray()\n",
    "    featureElm_json = \"{\\\"FELEM_CODE\\\":\\\"myNewFelem\\\",\\\"FELEM_ID\\\":789,\\\"TOKENIZE\\\":1,\\\"DATA_TYPE\\\":\\\"string\\\"}\"\n",
    "\n",
    "    g2_config.addFeatureElementV2(config_handle, featureElm_json, response_bytearray)\n",
    "    \n",
    "except G2Exception.G2ModuleGenericException as err:\n",
    "    print(g2_config.getLastException())\n",
    "    \n",
    "RenderJSON(response_bytearray.decode())"
   ]
  },
  {
   "cell_type": "markdown",
   "metadata": {},
   "source": [
    "### deleteFeatureElementV2"
   ]
  },
  {
   "cell_type": "code",
   "execution_count": null,
   "metadata": {},
   "outputs": [],
   "source": [
    "try:\n",
    "    featureElm_json = \"{\\\"FELEM_CODE\\\":\\\"myNewFelem\\\"}\"\n",
    "    g2_config.deleteFeatureElementV2(config_handle, featureElm_json)\n",
    "\n",
    "except G2Exception.G2ModuleGenericException as err:\n",
    "    print(g2_config.getLastException())"
   ]
  },
  {
   "cell_type": "markdown",
   "metadata": {},
   "source": [
    "### listFeatureClassesV2"
   ]
  },
  {
   "cell_type": "code",
   "execution_count": null,
   "metadata": {},
   "outputs": [],
   "source": [
    "try:\n",
    "    response_bytearray = bytearray()\n",
    "\n",
    "    g2_config.listFeatureClassesV2(config_handle, response_bytearray)\n",
    "    \n",
    "except G2Exception.G2ModuleGenericException as err:\n",
    "    print(g2_config.getLastException())\n",
    "    \n",
    "RenderJSON(response_bytearray.decode())"
   ]
  },
  {
   "cell_type": "markdown",
   "metadata": {},
   "source": [
    "### listFeaturesV2"
   ]
  },
  {
   "cell_type": "code",
   "execution_count": null,
   "metadata": {
    "scrolled": true
   },
   "outputs": [],
   "source": [
    "try:\n",
    "    response_bytearray = bytearray()\n",
    "\n",
    "    g2_config.listFeaturesV2(config_handle, response_bytearray)\n",
    "    \n",
    "except G2Exception.G2ModuleGenericException as err:\n",
    "    print(g2_config.getLastException())\n",
    "    \n",
    "RenderJSON(response_bytearray.decode())"
   ]
  },
  {
   "cell_type": "markdown",
   "metadata": {},
   "source": [
    "### getFeatureV2"
   ]
  },
  {
   "cell_type": "code",
   "execution_count": null,
   "metadata": {},
   "outputs": [],
   "source": [
    "try:\n",
    "    response_bytearray = bytearray()\n",
    "    feature_json =  \"{\\\"FTYPE_CODE\\\":\\\"name\\\"}\"\n",
    "    g2_config.getFeatureV2(config_handle, feature_json, response_bytearray)\n",
    "    \n",
    "except G2Exception.G2ModuleGenericException as err:\n",
    "    print(g2_config.getLastException())\n",
    "    \n",
    "RenderJSON(response_bytearray.decode())"
   ]
  },
  {
   "cell_type": "markdown",
   "metadata": {},
   "source": [
    "### addFeatureV2"
   ]
  },
  {
   "cell_type": "code",
   "execution_count": null,
   "metadata": {},
   "outputs": [],
   "source": [
    "try:\n",
    "    response_bytearray = bytearray()\n",
    "    feature_json = \"{\\\"FTYPE_CODE\\\":\\\"myNewFtype\\\",\\\"FTYPE_ID\\\":789,\\\"FCLASS_CODE\\\":\\\"ELECTED_ID\\\",\\\"FTYPE_FREQ\\\":\\\"FF\\\", \\\"FEATURE_ELEMENTS\\\":[{\\\"FELEM_CODE\\\":\\\"expression\\\"}]}\"\n",
    "\n",
    "    g2_config.addFeatureV2(config_handle, feature_json, response_bytearray)\n",
    "    \n",
    "except G2Exception.G2ModuleGenericException as err:\n",
    "    print(g2_config.getLastException())\n",
    "    \n",
    "RenderJSON(response_bytearray.decode())"
   ]
  },
  {
   "cell_type": "markdown",
   "metadata": {},
   "source": [
    "### deleteFeatureV2"
   ]
  },
  {
   "cell_type": "code",
   "execution_count": null,
   "metadata": {},
   "outputs": [],
   "source": [
    "try:\n",
    "    feature_json = \"{\\\"FTYPE_CODE\\\":\\\"NAME\\\"}\"\n",
    "    g2_config.deleteFeatureV2(config_handle, feature_json)\n",
    "\n",
    "except G2Exception.G2ModuleGenericException as err:\n",
    "    print(g2_config.getLastException())"
   ]
  },
  {
   "cell_type": "markdown",
   "metadata": {},
   "source": [
    "### addElementToFeatureV2"
   ]
  },
  {
   "cell_type": "code",
   "execution_count": null,
   "metadata": {},
   "outputs": [],
   "source": [
    "try:\n",
    "    elmnt_json =  \"{\\\"FTYPE_CODE\\\":\\\"myNewFtype\\\", \\\"FELEM_CODE\\\":\\\"expression\\\",\\\"EXEC_ORDER\\\":4}\"\n",
    "    g2_config.addElementToFeatureV2(config_handle, elmnt_json)\n",
    "\n",
    "except G2Exception.G2ModuleGenericException as err:\n",
    "    print(g2_config.getLastException())"
   ]
  },
  {
   "cell_type": "markdown",
   "metadata": {},
   "source": [
    "### deleteElementFromFeatureV2"
   ]
  },
  {
   "cell_type": "code",
   "execution_count": null,
   "metadata": {},
   "outputs": [],
   "source": [
    "try:\n",
    "    elmnt_json = \"{\\\"FTYPE_CODE\\\":\\\"myNewFtype\\\", \\\"FELEM_CODE\\\":\\\"expression\\\"}\"\n",
    "    \n",
    "    g2_config.deleteElementFromFeatureV2(config_handle, elmnt_json)\n",
    "\n",
    "except G2Exception.G2ModuleGenericException as err:\n",
    "    print(g2_config.getLastException())"
   ]
  },
  {
   "cell_type": "markdown",
   "metadata": {},
   "source": [
    "### Standardization"
   ]
  },
  {
   "cell_type": "markdown",
   "metadata": {},
   "source": [
    "#### listFeatureStandardizationFunctionsV2"
   ]
  },
  {
   "cell_type": "code",
   "execution_count": null,
   "metadata": {},
   "outputs": [],
   "source": [
    "try:\n",
    "    response_bytearray = bytearray()\n",
    "\n",
    "    g2_config.listFeatureStandardizationFunctionsV2(config_handle, response_bytearray)\n",
    "    \n",
    "except G2Exception.G2ModuleGenericException as err:\n",
    "    print(g2_config.getLastException())\n",
    "    \n",
    "RenderJSON(response_bytearray.decode())"
   ]
  },
  {
   "cell_type": "markdown",
   "metadata": {},
   "source": [
    "#### listFeaturesStandardizationFunctionCallsV2"
   ]
  },
  {
   "cell_type": "code",
   "execution_count": null,
   "metadata": {},
   "outputs": [],
   "source": [
    "try:\n",
    "    response_bytearray = bytearray()\n",
    "\n",
    "    g2_config.listFeatureStandardizationFunctionCallsV2(config_handle, response_bytearray)\n",
    "    \n",
    "except G2Exception.G2ModuleGenericException as err:\n",
    "    print(g2_config.getLastException())\n",
    "    \n",
    "RenderJSON(response_bytearray.decode())"
   ]
  },
  {
   "cell_type": "markdown",
   "metadata": {},
   "source": [
    "#### getFeatureStandardizationFunctionCallV2"
   ]
  },
  {
   "cell_type": "code",
   "execution_count": null,
   "metadata": {},
   "outputs": [],
   "source": [
    "try:\n",
    "    response_bytearray = bytearray()\n",
    "    featureStandard_json = \"{\\\"SFCALL_ID\\\":4}\"\n",
    "    g2_config.getFeatureStandardizationFunctionCallV2(config_handle, featureStandard_json, response_bytearray)\n",
    "    \n",
    "except G2Exception.G2ModuleGenericException as err:\n",
    "    print(g2_config.getLastException())\n",
    "    \n",
    "RenderJSON(response_bytearray.decode())"
   ]
  },
  {
   "cell_type": "markdown",
   "metadata": {},
   "source": [
    "#### addFeatureStandardizationFunctionCallV2"
   ]
  },
  {
   "cell_type": "code",
   "execution_count": null,
   "metadata": {},
   "outputs": [],
   "source": [
    "try:\n",
    "    response_bytearray = bytearray()\n",
    "    featureStandard_json = \"{\\\"FTYPE_CODE\\\":\\\"veh_vin\\\",\\\"SFCALL_ID\\\":789,\\\"SFUNC_CODE\\\":\\\"PARSE_ID\\\",\\\"EXEC_ORDER\\\":15}\"\n",
    "    g2_config.addFeatureStandardizationFunctionCallV2(config_handle, featureStandard_json, response_bytearray)\n",
    "    \n",
    "except G2Exception.G2ModuleGenericException as err:\n",
    "    print(g2_config.getLastException())\n",
    "    \n",
    "RenderJSON(response_bytearray.decode())"
   ]
  },
  {
   "cell_type": "markdown",
   "metadata": {},
   "source": [
    "#### deleteFeatureStandardizationFunctionCallV2"
   ]
  },
  {
   "cell_type": "code",
   "execution_count": null,
   "metadata": {},
   "outputs": [],
   "source": [
    "#Get the json from the previous function\n",
    "try:\n",
    "    featureStandard_json = \"{\\\"SFCALL_ID\\\":789}\"\n",
    "    g2_config.deleteFeatureStandardizationFunctionCallV2(config_handle, featureStandard_json)\n",
    "\n",
    "except G2Exception.G2ModuleGenericException as err:\n",
    "    print(g2_config.getLastException())"
   ]
  },
  {
   "cell_type": "markdown",
   "metadata": {},
   "source": [
    "### Expression"
   ]
  },
  {
   "cell_type": "markdown",
   "metadata": {},
   "source": [
    "#### listFeatureExpressionFunctionsV2"
   ]
  },
  {
   "cell_type": "code",
   "execution_count": null,
   "metadata": {},
   "outputs": [],
   "source": [
    "try:\n",
    "    response_bytearray = bytearray()\n",
    "    g2_config.listFeatureExpressionFunctionsV2(config_handle, response_bytearray)\n",
    "    \n",
    "except G2Exception.G2ModuleGenericException as err:\n",
    "    print(g2_config.getLastException())\n",
    "    \n",
    "RenderJSON(response_bytearray.decode())"
   ]
  },
  {
   "cell_type": "markdown",
   "metadata": {},
   "source": [
    "#### listFeatureExpressionFunctionCallsV2"
   ]
  },
  {
   "cell_type": "code",
   "execution_count": null,
   "metadata": {},
   "outputs": [],
   "source": [
    "try:\n",
    "    response_bytearray = bytearray()\n",
    "\n",
    "    g2_config.listFeatureExpressionFunctionCallsV2(config_handle, response_bytearray)\n",
    "    \n",
    "except G2Exception.G2ModuleGenericException as err:\n",
    "    print(g2_config.getLastException())\n",
    "    \n",
    "RenderJSON(response_bytearray.decode())"
   ]
  },
  {
   "cell_type": "markdown",
   "metadata": {},
   "source": [
    "#### getFeatureExpressionFunctionCallV2"
   ]
  },
  {
   "cell_type": "code",
   "execution_count": null,
   "metadata": {},
   "outputs": [],
   "source": [
    "try:\n",
    "    response_bytearray = bytearray()\n",
    "    featureExpress_json = \"{\\\"EFCALL_ID\\\":1}\"\n",
    "    g2_config.getFeatureExpressionFunctionCallV2(config_handle, featureExpress_json, response_bytearray)\n",
    "    \n",
    "except G2Exception.G2ModuleGenericException as err:\n",
    "    print(g2_config.getLastException())\n",
    "    \n",
    "RenderJSON(response_bytearray.decode())"
   ]
  },
  {
   "cell_type": "markdown",
   "metadata": {},
   "source": [
    "#### addFeatureExpressionFunctionCallV2"
   ]
  },
  {
   "cell_type": "code",
   "execution_count": null,
   "metadata": {},
   "outputs": [],
   "source": [
    "try:\n",
    "    response_bytearray = bytearray()\n",
    "    featureExpress_json = \"{\\\"FTYPE_CODE\\\":\\\"veh_vin\\\",\\\"EFCALL_ID\\\":789,\\\"EFUNC_CODE\\\":\\\"EXPRESS_ID\\\",\\\"EXEC_ORDER\\\":15, \\\"BOM_ELEMENTS\\\":[{\\\"FTYPE_CODE\\\":\\\"veh_vin\\\",\\\"FELEM_CODE\\\":\\\"id_num\\\",\\\"REQUIRED\\\":\\\"Yes\\\"}]}\"\n",
    "    g2_config.addFeatureExpressionFunctionCallV2(config_handle, featureExpress_json, response_bytearray)\n",
    "    \n",
    "except G2Exception.G2ModuleGenericException as err:\n",
    "    print(g2_config.getLastException())\n",
    "    \n",
    "RenderJSON(response_bytearray.decode())"
   ]
  },
  {
   "cell_type": "markdown",
   "metadata": {},
   "source": [
    "#### addFeatureExpressionFunctionCallElementV2"
   ]
  },
  {
   "cell_type": "code",
   "execution_count": null,
   "metadata": {},
   "outputs": [],
   "source": [
    "try:\n",
    "    featureExpressElm_json = \"{\\\"EFCALL_ID\\\":789, \\\"FTYPE_CODE\\\":\\\"address\\\",\\\"FELEM_CODE\\\":\\\"addr5\\\",\\\"REQUIRED\\\":\\\"Yes\\\"}\"\n",
    "    g2_config.addFeatureExpressionFunctionCallElementV2(config_handle, featureExpressElm_json)\n",
    "\n",
    "except G2Exception.G2ModuleGenericException as err:\n",
    "    print(g2_config.getLastException())"
   ]
  },
  {
   "cell_type": "markdown",
   "metadata": {},
   "source": [
    "#### deleteFeatureExpressionFunctionCallElementV2"
   ]
  },
  {
   "cell_type": "code",
   "execution_count": null,
   "metadata": {},
   "outputs": [],
   "source": [
    "try:\n",
    "    featureExpressElm_json = \"{\\\"EFCALL_ID\\\":789, \\\"FTYPE_CODE\\\":\\\"ADDRESS\\\",\\\"FELEM_CODE\\\":\\\"ADDR5\\\"}\"\n",
    "    g2_config.deleteFeatureExpressionFunctionCallElementV2(config_handle, featureExpressElm_json)\n",
    "\n",
    "except G2Exception.G2ModuleGenericException as err:\n",
    "    print(g2_config.getLastException())"
   ]
  },
  {
   "cell_type": "markdown",
   "metadata": {},
   "source": [
    "#### deleteFeatureExpressionFunctionCallV2"
   ]
  },
  {
   "cell_type": "code",
   "execution_count": null,
   "metadata": {},
   "outputs": [],
   "source": [
    "#Get the json from the previous function\n",
    "try:\n",
    "    featureExpress_json = \"{\\\"EFCALL_ID\\\":789}\"\n",
    "    g2_config.deleteFeatureExpressionFunctionCallV2(config_handle, featureExpress_json)\n",
    "\n",
    "except G2Exception.G2ModuleGenericException as err:\n",
    "    print(g2_config.getLastException())"
   ]
  },
  {
   "cell_type": "markdown",
   "metadata": {},
   "source": [
    "### Comparison"
   ]
  },
  {
   "cell_type": "markdown",
   "metadata": {},
   "source": [
    "#### listFeatureComparisonFunctionsV2"
   ]
  },
  {
   "cell_type": "code",
   "execution_count": null,
   "metadata": {},
   "outputs": [],
   "source": [
    "try:\n",
    "    response_bytearray = bytearray()\n",
    "\n",
    "    g2_config.listFeatureComparisonFunctionsV2(config_handle, response_bytearray)\n",
    "\n",
    "except G2Exception.G2ModuleGenericException as err:\n",
    "    print(g2_config.getLastException())\n",
    "    \n",
    "RenderJSON(response_bytearray.decode())"
   ]
  },
  {
   "cell_type": "markdown",
   "metadata": {},
   "source": [
    "#### listFeatureComparisonFunctionCallsV2"
   ]
  },
  {
   "cell_type": "code",
   "execution_count": null,
   "metadata": {
    "scrolled": true
   },
   "outputs": [],
   "source": [
    "try:\n",
    "    response_bytearray = bytearray()\n",
    "\n",
    "    g2_config.listFeatureComparisonFunctionCallsV2(config_handle, response_bytearray)\n",
    "    \n",
    "except G2Exception.G2ModuleGenericException as err:\n",
    "    print(g2_config.getLastException())\n",
    "    \n",
    "RenderJSON(response_bytearray.decode())"
   ]
  },
  {
   "cell_type": "markdown",
   "metadata": {},
   "source": [
    "#### getFeatureComparisonFunctionCallV2"
   ]
  },
  {
   "cell_type": "code",
   "execution_count": null,
   "metadata": {},
   "outputs": [],
   "source": [
    "try:\n",
    "    response_bytearray = bytearray()\n",
    "    featureCompFunc_json = \"{\\\"CFCALL_ID\\\":2}\"\n",
    "    g2_config.getFeatureComparisonFunctionCallV2(config_handle, featureCompFunc_json, response_bytearray)\n",
    "    \n",
    "except G2Exception.G2ModuleGenericException as err:\n",
    "    print(g2_config.getLastException())\n",
    "    \n",
    "RenderJSON(response_bytearray.decode())"
   ]
  },
  {
   "cell_type": "markdown",
   "metadata": {},
   "source": [
    "#### addFeatureComparisonFunctionCallV2"
   ]
  },
  {
   "cell_type": "code",
   "execution_count": null,
   "metadata": {},
   "outputs": [],
   "source": [
    "try:\n",
    "    response_bytearray = bytearray()\n",
    "    featureCompFunc_json = \"{\\\"FTYPE_CODE\\\":\\\"name_key\\\",\\\"CFCALL_ID\\\":789,\\\"CFUNC_CODE\\\":\\\"ID_COMP\\\",\\\"EXEC_ORDER\\\":15, \\\"BOM_ELEMENTS\\\":[{\\\"FELEM_CODE\\\":\\\"expression\\\"}]}\"\n",
    "    g2_config.addFeatureComparisonFunctionCallV2(config_handle, featureCompFunc_json, response_bytearray)\n",
    "    \n",
    "except G2Exception.G2ModuleGenericException as err:\n",
    "    print(g2_config.getLastException())\n",
    "    \n",
    "RenderJSON(response_bytearray.decode())"
   ]
  },
  {
   "cell_type": "markdown",
   "metadata": {},
   "source": [
    "#### deleteFeatureComparisonFunctionCallV2"
   ]
  },
  {
   "cell_type": "code",
   "execution_count": null,
   "metadata": {},
   "outputs": [],
   "source": [
    "#Get input_json from previous function\n",
    "try:\n",
    "    featureComp_json = \"{\\\"CFCALL_ID\\\":789}\"\n",
    "    g2_config.deleteFeatureComparisonFunctionCallV2(config_handle, featureComp_json)\n",
    "\n",
    "except G2Exception.G2ModuleGenericException as err:\n",
    "    print(g2_config.getLastException())"
   ]
  },
  {
   "cell_type": "markdown",
   "metadata": {},
   "source": [
    "#### addFeatureComparsionFunctionCallElementV2"
   ]
  },
  {
   "cell_type": "code",
   "execution_count": null,
   "metadata": {},
   "outputs": [],
   "source": [
    "try:\n",
    "    featureCompElm_json =  \"{\\\"CFCALL_ID\\\":5, \\\"FELEM_CODE\\\":\\\"addr6\\\"}\"\n",
    "    g2_config.addFeatureComparisonFunctionCallElementV2(config_handle, featureCompElm_json)\n",
    "\n",
    "except G2Exception.G2ModuleGenericException as err:\n",
    "    print(g2_config.getLastException())"
   ]
  },
  {
   "cell_type": "markdown",
   "metadata": {},
   "source": [
    "#### deleteFeatureComparsionFunctionCallElementV2"
   ]
  },
  {
   "cell_type": "code",
   "execution_count": null,
   "metadata": {},
   "outputs": [],
   "source": [
    "try:\n",
    "    featureCompElm_json =  \"{\\\"CFCALL_ID\\\":5, \\\"FELEM_CODE\\\":\\\"ADDR4\\\"}\"\n",
    "    g2_config.deleteFeatureComparisonFunctionCallElementV2(config_handle, featureCompElm_json)\n",
    "\n",
    "except G2Exception.G2ModuleGenericException as err:\n",
    "    print(g2_config.getLastException())"
   ]
  },
  {
   "cell_type": "markdown",
   "metadata": {},
   "source": [
    "### Distinct"
   ]
  },
  {
   "cell_type": "markdown",
   "metadata": {},
   "source": [
    "#### listFeatureDistinctFunctionsV2"
   ]
  },
  {
   "cell_type": "code",
   "execution_count": null,
   "metadata": {},
   "outputs": [],
   "source": [
    "try:\n",
    "    response_bytearray = bytearray()\n",
    "\n",
    "    g2_config.listFeatureDistinctFunctionsV2(config_handle, response_bytearray)\n",
    "    \n",
    "except G2Exception.G2ModuleGenericException as err:\n",
    "    print(g2_config.getLastException())\n",
    "    \n",
    "RenderJSON(response_bytearray.decode())"
   ]
  },
  {
   "cell_type": "markdown",
   "metadata": {},
   "source": [
    "#### listFeatureDistinctFunctionCallsV2"
   ]
  },
  {
   "cell_type": "code",
   "execution_count": null,
   "metadata": {
    "scrolled": true
   },
   "outputs": [],
   "source": [
    "try:\n",
    "    response_bytearray = bytearray()\n",
    "\n",
    "    g2_config.listFeatureDistinctFunctionCallsV2(config_handle, response_bytearray)\n",
    "    \n",
    "except G2Exception.G2ModuleGenericException as err:\n",
    "    print(g2_config.getLastException())\n",
    "    \n",
    "RenderJSON(response_bytearray.decode())"
   ]
  },
  {
   "cell_type": "markdown",
   "metadata": {},
   "source": [
    "#### getFeatureDistinctFunctionCallV2"
   ]
  },
  {
   "cell_type": "code",
   "execution_count": null,
   "metadata": {},
   "outputs": [],
   "source": [
    "try:\n",
    "    response_bytearray = bytearray()\n",
    "    featureFunc_json =  \"{\\\"DFCALL_ID\\\":2}\"\n",
    "    g2_config.getFeatureDistinctFunctionCallV2(config_handle, featureFunc_json, response_bytearray)\n",
    "    \n",
    "except G2Exception.G2ModuleGenericException as err:\n",
    "    print(g2_config.getLastException())\n",
    "    \n",
    "RenderJSON(response_bytearray.decode())"
   ]
  },
  {
   "cell_type": "markdown",
   "metadata": {},
   "source": [
    "#### addFeatureDistinctFunctionCallV2"
   ]
  },
  {
   "cell_type": "code",
   "execution_count": null,
   "metadata": {},
   "outputs": [],
   "source": [
    "try:\n",
    "    response_bytearray = bytearray()\n",
    "    featureFunc_json = \"{\\\"FTYPE_CODE\\\":\\\"name_key\\\",\\\"DFCALL_ID\\\":789,\\\"DFUNC_CODE\\\":\\\"FELEM_STRICT_SUBSET\\\",\\\"EXEC_ORDER\\\":15, \\\"BOM_ELEMENTS\\\":[{\\\"FELEM_CODE\\\":\\\"expression\\\"}]}\"\n",
    "    g2_config.addFeatureDistinctFunctionCallV2(config_handle, featureFunc_json, response_bytearray)\n",
    "    \n",
    "except G2Exception.G2ModuleGenericException as err:\n",
    "    print(g2_config.getLastException())\n",
    "    \n",
    "RenderJSON(response_bytearray.decode())"
   ]
  },
  {
   "cell_type": "markdown",
   "metadata": {},
   "source": [
    "#### deleteFeatureDistinctFunctionCallV2"
   ]
  },
  {
   "cell_type": "code",
   "execution_count": null,
   "metadata": {},
   "outputs": [],
   "source": [
    "try:\n",
    "    featureFunc_json = \"{\\\"DFCALL_ID\\\":1002}\"\n",
    "    g2_config.deleteFeatureDistinctFunctionCallV2(config_handle, featureFunc_json)\n",
    "\n",
    "except G2Exception.G2ModuleGenericException as err:\n",
    "    print(g2_config.getLastException())"
   ]
  },
  {
   "cell_type": "markdown",
   "metadata": {},
   "source": [
    "#### addFeatureDistinctFunctionCallElementV2"
   ]
  },
  {
   "cell_type": "code",
   "execution_count": null,
   "metadata": {},
   "outputs": [],
   "source": [
    "try:\n",
    "    featureElmt_json = \"{\\\"DFCALL_ID\\\":5, \\\"FELEM_CODE\\\":\\\"addr6\\\"}\"\n",
    "    g2_config.addFeatureDistinctFunctionCallElementV2(config_handle, featureElmt_json)\n",
    "\n",
    "except G2Exception.G2ModuleGenericException as err:\n",
    "    print(g2_config.getLastException())"
   ]
  },
  {
   "cell_type": "markdown",
   "metadata": {},
   "source": [
    "#### deleteFeatureDistinctFunctionCallElementV2"
   ]
  },
  {
   "cell_type": "code",
   "execution_count": null,
   "metadata": {},
   "outputs": [],
   "source": [
    "try:\n",
    "    featureElmt_json = \"{\\\"DFCALL_ID\\\":5, \\\"FELEM_CODE\\\":\\\"ADDR4\\\"}\"\n",
    "    g2_config.deleteFeatureDistinctFunctionCallElementV2(config_handle, featureElmt_json)\n",
    "\n",
    "except G2Exception.G2ModuleGenericException as err:\n",
    "    print(g2_config.getLastException())"
   ]
  },
  {
   "cell_type": "markdown",
   "metadata": {},
   "source": [
    "## Attributes"
   ]
  },
  {
   "cell_type": "markdown",
   "metadata": {},
   "source": [
    "### listAttributeClassesV2"
   ]
  },
  {
   "cell_type": "code",
   "execution_count": null,
   "metadata": {},
   "outputs": [],
   "source": [
    "try:\n",
    "    response_bytearray = bytearray()\n",
    "\n",
    "    g2_config.listAttributeClassesV2(config_handle, response_bytearray)\n",
    "    \n",
    "except G2Exception.G2ModuleGenericException as err:\n",
    "    print(g2_config.getLastException())\n",
    "    \n",
    "RenderJSON(response_bytearray.decode())"
   ]
  },
  {
   "cell_type": "markdown",
   "metadata": {},
   "source": [
    "### listAttributesV2"
   ]
  },
  {
   "cell_type": "code",
   "execution_count": null,
   "metadata": {
    "scrolled": true
   },
   "outputs": [],
   "source": [
    "try:\n",
    "    response_bytearray = bytearray()\n",
    "\n",
    "    g2_config.listAttributesV2(config_handle, response_bytearray)\n",
    "    \n",
    "except G2Exception.G2ModuleGenericException as err:\n",
    "    print(g2_config.getLastException())\n",
    "    \n",
    "RenderJSON(response_bytearray.decode())"
   ]
  },
  {
   "cell_type": "markdown",
   "metadata": {},
   "source": [
    "### getAttributeV2"
   ]
  },
  {
   "cell_type": "code",
   "execution_count": null,
   "metadata": {},
   "outputs": [],
   "source": [
    "try:\n",
    "    response_bytearray = bytearray()\n",
    "    input_json = \"{\\\"ATTR_CODE\\\":\\\"DATA_SOURCE\\\"}\"\n",
    "    g2_config.getAttributeV2(config_handle, input_json, response_bytearray)\n",
    "    \n",
    "except G2Exception.G2ModuleGenericException as err:\n",
    "    print(g2_config.getLastException())\n",
    "    \n",
    "RenderJSON(response_bytearray.decode())"
   ]
  },
  {
   "cell_type": "markdown",
   "metadata": {},
   "source": [
    "### addAttributeV2"
   ]
  },
  {
   "cell_type": "code",
   "execution_count": null,
   "metadata": {},
   "outputs": [],
   "source": [
    "try:\n",
    "    response_bytearray = bytearray()\n",
    "    attr_json = \"{\\\"ATTR_CODE\\\":\\\"myNewAttr\\\",\\\"ATTR_ID\\\":789,\\\"ATTR_CLASS\\\":\\\"attribute\\\",\\\"FTYPE_CODE\\\":\\\"name_key\\\",\\\"FELEM_CODE\\\":\\\"latitude\\\",\\\"FELEM_REQ\\\":\\\"myReqValue\\\",\\\"DEFAULT_VALUE\\\":\\\"myDefault\\\",\\\"ADVANCED\\\":\\\"Y\\\",\\\"INTERNAL\\\":1}\"\n",
    "    g2_config.addAttributeV2(config_handle, attr_json, response_bytearray)\n",
    "    \n",
    "except G2Exception.G2ModuleGenericException as err:\n",
    "    print(g2_config.getLastException())\n",
    "    \n",
    "RenderJSON(response_bytearray.decode())"
   ]
  },
  {
   "cell_type": "markdown",
   "metadata": {},
   "source": [
    "### deleteAttributeV2"
   ]
  },
  {
   "cell_type": "code",
   "execution_count": null,
   "metadata": {},
   "outputs": [],
   "source": [
    "try:\n",
    "    input_json = \"{\\\"ATTR_CODE\\\":\\\"NAME_FIRST\\\"}\"\n",
    "    g2_config.deleteAttributeV2(config_handle, input_json)\n",
    "    \n",
    "except G2Exception.G2ModuleGenericException as err:\n",
    "    print(g2_config.getLastException())"
   ]
  },
  {
   "cell_type": "markdown",
   "metadata": {},
   "source": [
    "## Cleanup"
   ]
  },
  {
   "cell_type": "markdown",
   "metadata": {},
   "source": [
    "### getLastException"
   ]
  },
  {
   "cell_type": "code",
   "execution_count": null,
   "metadata": {},
   "outputs": [],
   "source": [
    "print(g2_config.getLastException())"
   ]
  },
  {
   "cell_type": "markdown",
   "metadata": {},
   "source": [
    "### clearLastException"
   ]
  },
  {
   "cell_type": "code",
   "execution_count": null,
   "metadata": {},
   "outputs": [],
   "source": [
    "try:\n",
    "    g2_config.clearLastException()\n",
    "\n",
    "except G2Exception.G2ModuleGenericException as err:\n",
    "    print(g2_config.getLastException())"
   ]
  },
  {
   "cell_type": "markdown",
   "metadata": {},
   "source": [
    "### close"
   ]
  },
  {
   "cell_type": "code",
   "execution_count": null,
   "metadata": {},
   "outputs": [],
   "source": [
    "try:\n",
    "    g2_config.close(config_handle)\n",
    "\n",
    "except G2Exception.G2ModuleGenericException as err:\n",
    "    print(g2_config.getLastException())"
   ]
  },
  {
   "cell_type": "markdown",
   "metadata": {},
   "source": [
    "### destroy"
   ]
  },
  {
   "cell_type": "code",
   "execution_count": null,
   "metadata": {},
   "outputs": [],
   "source": [
    "try:\n",
    "    g2_config.destroy()\n",
    "\n",
    "except G2Exception.G2ModuleGenericException as err:\n",
    "    print(g2_config.getLastException())"
   ]
  }
 ],
 "metadata": {
  "kernelspec": {
   "display_name": "Python 3",
   "language": "python",
   "name": "python3"
  },
  "language_info": {
   "codemirror_mode": {
    "name": "ipython",
    "version": 3
   },
   "file_extension": ".py",
   "mimetype": "text/x-python",
   "name": "python",
   "nbconvert_exporter": "python",
   "pygments_lexer": "ipython3",
   "version": "3.7.6"
  },
  "toc": {
   "base_numbering": 1,
   "nav_menu": {},
   "number_sections": true,
   "sideBar": true,
   "skip_h1_title": true,
   "title_cell": "Table of Contents",
   "title_sidebar": "Contents",
   "toc_cell": false,
   "toc_position": {},
   "toc_section_display": true,
   "toc_window_display": true
  }
 },
 "nbformat": 4,
 "nbformat_minor": 2
}
