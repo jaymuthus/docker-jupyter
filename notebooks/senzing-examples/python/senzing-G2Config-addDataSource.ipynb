{
 "cells": [
  {
   "cell_type": "markdown",
   "metadata": {},
   "source": [
    "# G2Config Guide - Add DataSource\n",
    "\n",
    "The `addDataSource()` method adds a datasource to the list of accepted datasources.\n",
    "\n",
    "More information:\n",
    "\n",
    "1. [GitHub repository](https://github.com/Senzing/docker-jupyter)\n",
    "1. [Senzing documentation](http://docs.senzing.com/?python#g2config)\n",
    "1. [G2Config Reference](senzing-G2Config-reference.ipynb)"
   ]
  },
  {
   "cell_type": "markdown",
   "metadata": {},
   "source": [
    "## Prepare environment"
   ]
  },
  {
   "cell_type": "code",
   "execution_count": null,
   "metadata": {},
   "outputs": [],
   "source": [
    "import os\n",
    "import sys\n",
    "import json\n",
    "\n",
    "# For RenderJSON\n",
    "\n",
    "import uuid\n",
    "from IPython.display import display_javascript, display_html, display"
   ]
  },
  {
   "cell_type": "markdown",
   "metadata": {},
   "source": [
    "### Helper class for JSON Rendering"
   ]
  },
  {
   "cell_type": "code",
   "execution_count": null,
   "metadata": {},
   "outputs": [],
   "source": [
    "class RenderJSON(object):\n",
    "    def __init__(self, json_data):\n",
    "        if isinstance(json_data, dict):\n",
    "            self.json_str = json.dumps(json_data)\n",
    "        elif isinstance(json_data, bytearray):\n",
    "            self.json_str = json_data.decode()\n",
    "        else:\n",
    "            self.json_str = json_data\n",
    "        self.uuid = str(uuid.uuid4())\n",
    "\n",
    "    def _ipython_display_(self):\n",
    "        display_html('<div id=\"{}\" style=\"height:100%; width:100%; background-color: LightCyan\"></div>'.format(self.uuid), raw=True)\n",
    "        display_javascript(\"\"\"\n",
    "        require([\"https://rawgit.com/caldwell/renderjson/master/renderjson.js\"], function() {\n",
    "        document.getElementById('%s').appendChild(renderjson(%s))\n",
    "        });\n",
    "        \"\"\" % (self.uuid, self.json_str), raw=True)"
   ]
  },
  {
   "cell_type": "markdown",
   "metadata": {},
   "source": [
    "### System path\n",
    "\n",
    "Update system path."
   ]
  },
  {
   "cell_type": "code",
   "execution_count": null,
   "metadata": {},
   "outputs": [],
   "source": [
    "python_path = \"{0}/python\".format(\n",
    "    os.environ.get(\"SENZING_G2_DIR\", \"/opt/senzing/g2\"))\n",
    "sys.path.append(python_path)"
   ]
  },
  {
   "cell_type": "markdown",
   "metadata": {},
   "source": [
    "### Initialize variables\n",
    "\n",
    "Create variables used in `addDataSource()`."
   ]
  },
  {
   "cell_type": "code",
   "execution_count": null,
   "metadata": {},
   "outputs": [],
   "source": [
    "module_name = 'pyG2ConfigForAddDatasource'\n",
    "\n",
    "config_path = os.environ.get(\"SENZING_ETC_DIR\", \"/etc/opt/senzing\")\n",
    "support_path = os.environ.get(\"SENZING_DATA_VERSION_DIR\", \"/opt/senzing/data\")\n",
    "\n",
    "resource_path = \"{0}/resources\".format(\n",
    "    os.environ.get(\"SENZING_G2_DIR\", \"/opt/senzing/g2\"))\n",
    "\n",
    "sql_connection = os.environ.get(\n",
    "    \"SENZING_SQL_CONNECTION\", \"sqlite3://na:na@/var/opt/senzing/sqlite/G2C.db\")\n",
    "\n",
    "verbose_logging = False\n",
    "\n",
    "senzing_config_dictionary = {\n",
    "    \"PIPELINE\": {\n",
    "        \"CONFIGPATH\": config_path,        \n",
    "        \"SUPPORTPATH\": support_path,\n",
    "        \"RESOURCEPATH\": resource_path\n",
    "    },\n",
    "    \"SQL\": {\n",
    "        \"CONNECTION\": sql_connection,\n",
    "    }\n",
    "}\n",
    "\n",
    "senzing_config_json = json.dumps(senzing_config_dictionary)"
   ]
  },
  {
   "cell_type": "markdown",
   "metadata": {},
   "source": [
    "## G2Config\n",
    "\n",
    "The G2Config API..."
   ]
  },
  {
   "cell_type": "code",
   "execution_count": null,
   "metadata": {},
   "outputs": [],
   "source": [
    "from G2Config import G2Config"
   ]
  },
  {
   "cell_type": "markdown",
   "metadata": {},
   "source": [
    "### Initialize G2Config\n",
    "\n",
    "Details at [G2Config Initialization](senzing-G2Config-reference.ipynb#G2Config-Initialization)."
   ]
  },
  {
   "cell_type": "code",
   "execution_count": null,
   "metadata": {},
   "outputs": [],
   "source": [
    "g2_config = G2Config()\n",
    "return_code = g2_config.initV2(module_name, senzing_config_json, verbose_logging)\n",
    "\n",
    "print(\"Return Code: {0}\".format(return_code))"
   ]
  },
  {
   "cell_type": "markdown",
   "metadata": {},
   "source": [
    "### Create configuration handle\n",
    "\n",
    "Details at [G2Config.create](senzing-G2Config-reference.ipynb#create)."
   ]
  },
  {
   "cell_type": "code",
   "execution_count": null,
   "metadata": {},
   "outputs": [],
   "source": [
    "config_handle = g2_config.create()"
   ]
  },
  {
   "cell_type": "markdown",
   "metadata": {},
   "source": [
    "### List DataSources\n",
    "\n",
    "Call G2Config's `listDataSources()` method and pretty-print results.\n",
    "\n",
    "Details at [G2Config.listDataSources](senzing-G2Config-reference.ipynb#listDataSources)."
   ]
  },
  {
   "cell_type": "code",
   "execution_count": null,
   "metadata": {},
   "outputs": [],
   "source": [
    "response_bytearray = bytearray()\n",
    "\n",
    "return_code = g2_config.listDataSources(config_handle, response_bytearray)\n",
    "\n",
    "print(\"Return Code: {0}\".format(return_code))\n",
    "RenderJSON(response_bytearray)"
   ]
  },
  {
   "cell_type": "markdown",
   "metadata": {},
   "source": [
    "### Add DataSource\n",
    "\n",
    "Call G2Config's `addDataSource()` method and pretty-print results.\n",
    "\n",
    "Details at [G2Config.addDataSource](senzing-G2Config-reference.ipynb#addDataSource)."
   ]
  },
  {
   "cell_type": "code",
   "execution_count": null,
   "metadata": {},
   "outputs": [],
   "source": [
    "datasource_code = \"CUSTOMER\"\n",
    "return_code = g2_config.addDataSource(config_handle, datasource_code)\n",
    "\n",
    "print(\"Return Code: {0}\".format(return_code))"
   ]
  },
  {
   "cell_type": "markdown",
   "metadata": {},
   "source": [
    "### List DataSources again\n",
    "\n",
    "Call G2Config's `listDataSources()` method and pretty-print results.\n",
    "Notice that the list now contains the newly added datasource_code of \"CUSTOMER\".\n",
    "\n",
    "Details at [G2Config.listDataSources](senzing-G2Config-reference.ipynb#listDataSources)."
   ]
  },
  {
   "cell_type": "code",
   "execution_count": null,
   "metadata": {},
   "outputs": [],
   "source": [
    "response_bytearray = bytearray()\n",
    "\n",
    "return_code = g2_config.listDataSources(config_handle, response_bytearray)\n",
    "\n",
    "print(\"Return Code: {0}\".format(return_code))\n",
    "RenderJSON(response_bytearray)"
   ]
  },
  {
   "cell_type": "markdown",
   "metadata": {},
   "source": [
    "### Close configuration handle\n",
    "\n",
    "Details at [G2Config.close](senzing-G2Config-reference.ipynb#close)."
   ]
  },
  {
   "cell_type": "code",
   "execution_count": null,
   "metadata": {},
   "outputs": [],
   "source": [
    "g2_config.close(config_handle)"
   ]
  }
 ],
 "metadata": {
  "kernelspec": {
   "display_name": "Python 3",
   "language": "python",
   "name": "python3"
  },
  "language_info": {
   "codemirror_mode": {
    "name": "ipython",
    "version": 3
   },
   "file_extension": ".py",
   "mimetype": "text/x-python",
   "name": "python",
   "nbconvert_exporter": "python",
   "pygments_lexer": "ipython3",
   "version": "3.7.6"
  },
  "toc": {
   "base_numbering": 1,
   "nav_menu": {},
   "number_sections": true,
   "sideBar": true,
   "skip_h1_title": false,
   "title_cell": "Table of Contents",
   "title_sidebar": "Contents",
   "toc_cell": false,
   "toc_position": {},
   "toc_section_display": true,
   "toc_window_display": false
  }
 },
 "nbformat": 4,
 "nbformat_minor": 2
}
