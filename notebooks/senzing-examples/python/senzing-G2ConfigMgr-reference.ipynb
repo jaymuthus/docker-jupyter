{
 "cells": [
  {
   "cell_type": "markdown",
   "metadata": {},
   "source": [
    "# G2ConfigMgr Reference\n",
    "\n",
    "More information:\n",
    "\n",
    "1. [GitHub repository](https://github.com/Senzing/docker-jupyter)\n",
    "1. [Senzing documentation](http://docs.senzing.com/?python#g2config)"
   ]
  },
  {
   "cell_type": "markdown",
   "metadata": {},
   "source": [
    "## Prepare environment"
   ]
  },
  {
   "cell_type": "code",
   "execution_count": null,
   "metadata": {},
   "outputs": [],
   "source": [
    "import os\n",
    "import sys\n",
    "import json\n",
    "\n",
    "# For RenderJSON\n",
    "\n",
    "import uuid\n",
    "from IPython.display import display_javascript, display_html, display"
   ]
  },
  {
   "cell_type": "markdown",
   "metadata": {},
   "source": [
    "### Helper class for JSON rendering\n",
    "\n",
    "A class for pretty-printing JSON.\n",
    "Not required by Senzing, \n",
    "but helps visualize JSON."
   ]
  },
  {
   "cell_type": "code",
   "execution_count": null,
   "metadata": {},
   "outputs": [],
   "source": [
    "class RenderJSON(object):\n",
    "    def __init__(self, json_data):\n",
    "        if isinstance(json_data, dict):\n",
    "            self.json_str = json.dumps(json_data)\n",
    "        elif isinstance(json_data, bytearray):\n",
    "            self.json_str = json_data.decode()\n",
    "        else:\n",
    "            self.json_str = json_data\n",
    "        self.uuid = str(uuid.uuid4())\n",
    "\n",
    "    def _ipython_display_(self):\n",
    "        display_html('<div id=\"{}\" style=\"height:100%; width:100%; background-color: LightCyan\"></div>'.format(self.uuid), raw=True)\n",
    "        display_javascript(\"\"\"\n",
    "        require([\"https://rawgit.com/caldwell/renderjson/master/renderjson.js\"], function() {\n",
    "        document.getElementById('%s').appendChild(renderjson(%s))\n",
    "        });\n",
    "        \"\"\" % (self.uuid, self.json_str), raw=True)"
   ]
  },
  {
   "cell_type": "markdown",
   "metadata": {},
   "source": [
    "### System path\n",
    "\n",
    "Update system path."
   ]
  },
  {
   "cell_type": "code",
   "execution_count": null,
   "metadata": {},
   "outputs": [],
   "source": [
    "python_path = \"{0}/python\".format(\n",
    "    os.environ.get(\"SENZING_G2_DIR\", \"/opt/senzing/g2\"))\n",
    "sys.path.append(python_path)"
   ]
  },
  {
   "cell_type": "markdown",
   "metadata": {},
   "source": [
    "### Initialize variables\n",
    "\n",
    "Create variables used for G2Config and G2ConfigMgr."
   ]
  },
  {
   "cell_type": "code",
   "execution_count": null,
   "metadata": {},
   "outputs": [],
   "source": [
    "module_name = 'pyG2EngineForAddRecord'\n",
    "\n",
    "config_path = os.environ.get(\"SENZING_ETC_DIR\", \"/etc/opt/senzing\")\n",
    "support_path = os.environ.get(\"SENZING_DATA_VERSION_DIR\", \"/opt/senzing/data\")\n",
    "\n",
    "resource_path = \"{0}/resources\".format(\n",
    "    os.environ.get(\"SENZING_G2_DIR\", \"/opt/senzing/g2\"))\n",
    "\n",
    "sql_connection = os.environ.get(\n",
    "    \"SENZING_SQL_CONNECTION\", \"sqlite3://na:na@/var/opt/senzing/sqlite/G2C.db\")\n",
    "\n",
    "verbose_logging = False\n",
    "\n",
    "senzing_config_dictionary = {\n",
    "    \"PIPELINE\": {\n",
    "        \"CONFIGPATH\": config_path,        \n",
    "        \"SUPPORTPATH\": support_path,\n",
    "        \"RESOURCEPATH\": resource_path\n",
    "    },\n",
    "    \"SQL\": {\n",
    "        \"CONNECTION\": sql_connection,\n",
    "    }\n",
    "}\n",
    "\n",
    "senzing_config_json = json.dumps(senzing_config_dictionary)"
   ]
  },
  {
   "cell_type": "markdown",
   "metadata": {},
   "source": [
    "### Create configuration object\n",
    "\n",
    "The G2Config API is used to create a new JSON configuration from the default template.\n",
    "For more information, \n",
    "view the [senzing-G2Config-reference.ipynb](senzing-G2Config-reference.ipynb) notebook."
   ]
  },
  {
   "cell_type": "code",
   "execution_count": null,
   "metadata": {},
   "outputs": [],
   "source": [
    "from G2Config import G2Config\n",
    "\n",
    "g2_config = G2Config()\n",
    "g2_config.initV2(module_name, senzing_config_json, verbose_logging)\n",
    "\n",
    "# Create configuration from template file.\n",
    "\n",
    "config_handle = g2_config.create()\n",
    "\n",
    "# Save JSON to string variable.\n",
    "\n",
    "response_bytearray = bytearray()\n",
    "return_code = g2_config.save(config_handle, response_bytearray)\n",
    "senzing_model_config_json = response_bytearray.decode()\n",
    "\n",
    "print(\"Return Code: {0}\".format(return_code))\n",
    "RenderJSON(response_bytearray)"
   ]
  },
  {
   "cell_type": "markdown",
   "metadata": {},
   "source": [
    "## G2ConfigMgr\n",
    "\n",
    "The G2ConfigMgr API is used to add specific JSON configurations to the database,\n",
    "so that they may be shared across remote systems.\n",
    "Such configurations are added to the database, and a configuration ID is created for each of them.\n",
    "The system may then be configured with a specific configuratin ID that points to one of those configurations.\n",
    "That configuration ID will then be the shared global config."
   ]
  },
  {
   "cell_type": "code",
   "execution_count": null,
   "metadata": {},
   "outputs": [],
   "source": [
    "from G2ConfigMgr import G2ConfigMgr"
   ]
  },
  {
   "cell_type": "markdown",
   "metadata": {},
   "source": [
    "### G2ConfigMgr Initialization\n",
    "\n",
    "To start using G2ConfigMgr, you must first create and initialize an instance of the config manager.\n",
    "This should be done once per process.\n",
    "\n",
    "Create a new instance of the config manager and assign it to a variable.\n",
    "Then, call the appropriate initialization method (such as initV2) to initialize the config manager.\n",
    "\n",
    "During the call, the initialization methods accept the following parameters:\n",
    "\n",
    "- **module_name:** A short name given to this instance of the G2 engine (i.e. your G2Module object)\n",
    "- **senzing_config_json:** A JSON document containing system parameters. For more information, see [http://docs.senzing.com/?python](http://docs.senzing.com/?python#initialization-parameters).\n",
    "- **verbose_logging:** A boolean which enables diagnostic logging - this will print a massive amount of information to stdout (default = False)\n",
    "\n",
    "Calling these functions will return \"0\" upon success - useful for error handling."
   ]
  },
  {
   "cell_type": "code",
   "execution_count": null,
   "metadata": {},
   "outputs": [],
   "source": [
    "g2_configuration_manager = G2ConfigMgr()\n",
    "\n",
    "return_code = g2_configuration_manager.initV2(\n",
    "    module_name,\n",
    "    senzing_config_json,\n",
    "    verbose_logging)\n",
    "\n",
    "print(\"Return Code: {0}\".format(return_code))"
   ]
  },
  {
   "cell_type": "markdown",
   "metadata": {},
   "source": [
    "### addConfig\n",
    "\n",
    "Use `addConfig()` to add a configuration JSON document to the data repository.\n",
    "\n",
    "The `addConfig()` function accepts the following parameters as input:\n",
    "\n",
    "- **senzing_model_config_json:** The configuration JSON document.\n",
    "- **config_comment:** A free-form string of comments describing the configuration document.\n",
    "- **config_id_bytearray:** The returned configID for the new config document registered in the data store.\n",
    "\n",
    "The function returns \"0\" upon success. "
   ]
  },
  {
   "cell_type": "code",
   "execution_count": null,
   "metadata": {},
   "outputs": [],
   "source": [
    "config_comment = \"Configuration added from G2SetupConfig.\"\n",
    "config_id_bytearray = bytearray()\n",
    "\n",
    "return_code = g2_configuration_manager.addConfig(\n",
    "    senzing_model_config_json,\n",
    "    config_comment,\n",
    "    config_id_bytearray)\n",
    "\n",
    "print(\"Return Code: {0}\\nConfig ID: {1}\".format(return_code, config_id_bytearray.decode()))"
   ]
  },
  {
   "cell_type": "markdown",
   "metadata": {},
   "source": [
    "###  getConfigList\n",
    "\n",
    "Use `getConfigList()` to retrieve a list of the configuration JSON documents contained in the data repository.\n",
    "\n",
    "The function returns \"0\" upon success. "
   ]
  },
  {
   "cell_type": "code",
   "execution_count": null,
   "metadata": {},
   "outputs": [],
   "source": [
    "response_bytearray = bytearray()\n",
    "\n",
    "return_code = g2_configuration_manager.getConfigList(response_bytearray)\n",
    "\n",
    "print(\"Return Code: {0}\".format(return_code))\n",
    "RenderJSON(response_bytearray)"
   ]
  },
  {
   "cell_type": "markdown",
   "metadata": {},
   "source": [
    "### getConfig\n",
    "\n",
    "Use `getConfig()` to retrieve a specific configuration JSON document from the data repository.\n",
    "\n",
    "The `getConfig()` function accepts the following parameters as input:\n",
    "\n",
    "- **config_id_bytearray:** The configID for the config document that you wish to retrieve.\n",
    "\n",
    "They also have various arguments used to return response documents.\n",
    "\n",
    "The function returns \"0\" upon success. "
   ]
  },
  {
   "cell_type": "code",
   "execution_count": null,
   "metadata": {},
   "outputs": [],
   "source": [
    "response_bytearray = bytearray()\n",
    "\n",
    "return_code = g2_configuration_manager.getConfig(\n",
    "    config_id_bytearray,\n",
    "    response_bytearray)\n",
    "\n",
    "print(\"Return Code: {0}\".format(return_code))\n",
    "RenderJSON(response_bytearray)"
   ]
  },
  {
   "cell_type": "markdown",
   "metadata": {},
   "source": [
    "### setDefaultConfigID\n",
    "\n",
    "Use `setDefaultConfigID()` to set the default configuration JSON document in the data repository.\n",
    "\n",
    "The `setDefaultConfigID()` function accepts the following parameters as input:\n",
    "\n",
    "- **config_id_bytearray:** The configuration ID for a configuration JSON document previously added to the database.\n",
    "\n",
    "The function returns \"0\" upon success. "
   ]
  },
  {
   "cell_type": "code",
   "execution_count": null,
   "metadata": {},
   "outputs": [],
   "source": [
    "return_code = g2_configuration_manager.setDefaultConfigID(config_id_bytearray)\n",
    "\n",
    "print(\"Return Code: {0}\".format(return_code))"
   ]
  },
  {
   "cell_type": "markdown",
   "metadata": {},
   "source": [
    "### getDefaultConfigID\n",
    "\n",
    "Use `getDefaultConfigID()` to retrieve a specific configuration JSON document from the data repository.\n",
    "\n",
    "The `getDefaultConfigID()` function accepts the following parameters as input:\n",
    "\n",
    "- **config_id_bytearray:** Returns the configID for the current default configuration, or 0 if none is set.\n",
    "\n",
    "The function returns \"0\" upon success. "
   ]
  },
  {
   "cell_type": "code",
   "execution_count": null,
   "metadata": {},
   "outputs": [],
   "source": [
    "return_code = g2_configuration_manager.getDefaultConfigID(config_id_bytearray)\n",
    "\n",
    "print(\"Return Code: {0}\\nConfiguration ID: {1}\".format(\n",
    "    return_code,\n",
    "    config_id_bytearray.decode()))"
   ]
  }
 ],
 "metadata": {
  "kernelspec": {
   "display_name": "Python 3",
   "language": "python",
   "name": "python3"
  },
  "language_info": {
   "codemirror_mode": {
    "name": "ipython",
    "version": 3
   },
   "file_extension": ".py",
   "mimetype": "text/x-python",
   "name": "python",
   "nbconvert_exporter": "python",
   "pygments_lexer": "ipython3",
   "version": "3.7.6"
  },
  "toc": {
   "base_numbering": 1,
   "nav_menu": {},
   "number_sections": true,
   "sideBar": true,
   "skip_h1_title": false,
   "title_cell": "Table of Contents",
   "title_sidebar": "Contents",
   "toc_cell": false,
   "toc_position": {},
   "toc_section_display": true,
   "toc_window_display": false
  }
 },
 "nbformat": 4,
 "nbformat_minor": 2
}
